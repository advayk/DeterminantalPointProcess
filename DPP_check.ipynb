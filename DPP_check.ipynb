{
 "cells": [
  {
   "cell_type": "code",
   "execution_count": 4,
   "metadata": {},
   "outputs": [],
   "source": [
    "import numpy as np\n",
    "import matplotlib.pyplot as plt\n",
    "from collections import defaultdict\n",
    "from itertools import chain, combinations\n",
    "from scipy.linalg import det"
   ]
  },
  {
   "cell_type": "code",
   "execution_count": 1,
   "metadata": {},
   "outputs": [],
   "source": [
    "def bernoulli_trial(p):\n",
    "    return np.random.rand() < p\n",
    "\n",
    "def poulson_dpp_sampling(K):\n",
    "    n = K.shape[0]\n",
    "    sample = []\n",
    "    A = np.array(K, dtype=float)\n",
    "\n",
    "    for j in range(n):\n",
    "        if bernoulli_trial(A[j, j]):\n",
    "            sample.append(j+1)\n",
    "        else:\n",
    "            A[j, j] -= 1 \n",
    "        A[j+1:n-1, j] /= A[j, j]  \n",
    "        A[j+1:n-1, j+1:(n-1)] -= np.outer(A[j+1:(n-1), j], A[j, j+1:(n-1)])\n",
    "    return sample, A\n"
   ]
  },
  {
   "cell_type": "code",
   "execution_count": 2,
   "metadata": {},
   "outputs": [
    {
     "ename": "NameError",
     "evalue": "name 'K' is not defined",
     "output_type": "error",
     "traceback": [
      "\u001b[0;31m---------------------------------------------------------------------------\u001b[0m",
      "\u001b[0;31mNameError\u001b[0m                                 Traceback (most recent call last)",
      "Cell \u001b[0;32mIn[2], line 1\u001b[0m\n\u001b[0;32m----> 1\u001b[0m sample, _ \u001b[38;5;241m=\u001b[39m poulson_dpp_sampling(\u001b[43mK\u001b[49m)\n\u001b[1;32m      2\u001b[0m sample\n",
      "\u001b[0;31mNameError\u001b[0m: name 'K' is not defined"
     ]
    }
   ],
   "source": [
    "sample, _ = poulson_dpp_sampling(K)\n",
    "sample"
   ]
  },
  {
   "cell_type": "code",
   "execution_count": 5,
   "metadata": {},
   "outputs": [
    {
     "name": "stdout",
     "output_type": "stream",
     "text": [
      "---K Matrix---\n",
      "[[0.45231249 0.12403444 0.01956838]\n",
      " [0.12403444 0.17136054 0.00206365]\n",
      " [0.01956838 0.00206365 0.02666511]]\n",
      "---L Matrix---\n",
      "[[0.89137616 0.28320578 0.03862557]\n",
      " [0.28320578 0.24920974 0.00834226]\n",
      " [0.03862557 0.00834226 0.02818985]]\n"
     ]
    }
   ],
   "source": [
    "# Generate a random 3x3 matrix A\n",
    "A = np.random.randn(3, 3)\n",
    "K = A @ A.T  \n",
    "eigenvalues, _ = np.linalg.eig(K)\n",
    "largest_eigenvalue = max(eigenvalues)\n",
    "K = K/ (2 * largest_eigenvalue)\n",
    "I = np.eye(3)\n",
    "L = K @ np.linalg.inv(I - K)\n",
    "print(\"---K Matrix---\")\n",
    "print(K)\n",
    "print(\"---L Matrix---\")\n",
    "print(L)\n"
   ]
  },
  {
   "cell_type": "code",
   "execution_count": 6,
   "metadata": {},
   "outputs": [],
   "source": [
    "def powerset(iterable):\n",
    "    \"powerset([1,2,3]) --> [], [1], [2], [3], [1,2], [1,3], [2,3], [1,2,3]\"\n",
    "    s = list(iterable)\n",
    "    return chain.from_iterable(combinations(s, r) for r in range(len(s)+1))"
   ]
  },
  {
   "cell_type": "code",
   "execution_count": 7,
   "metadata": {},
   "outputs": [
    {
     "data": {
      "text/plain": [
       "[(), (1,), (2,), (3,), (1, 2), (1, 3), (2, 3), (1, 2, 3)]"
      ]
     },
     "execution_count": 7,
     "metadata": {},
     "output_type": "execute_result"
    }
   ],
   "source": [
    "# Calculate the powerset of indices, including the empty set\n",
    "indices = [1, 2, 3]\n",
    "ps = list(powerset(indices))\n",
    "ps"
   ]
  },
  {
   "cell_type": "code",
   "execution_count": 10,
   "metadata": {},
   "outputs": [
    {
     "name": "stdout",
     "output_type": "stream",
     "text": [
      "dict_keys([(), (1,), (2,), (3,), (1, 2), (1, 3), (2, 3), (1, 2, 3)])\n",
      "---Det of K---\n",
      "Subset (): 1.0\n",
      "Subset (1): 0.45231248544535557\n",
      "Subset (2): 0.17136053997179693\n",
      "Subset (3): 0.026665112764954927\n",
      "Subset (1, 2): 0.06212397061222356\n",
      "Subset (1, 3): 0.01167804175632243\n",
      "Subset (2, 3): 0.0045650894645250135\n",
      "Subset (1, 2, 3): 0.001599016371008714\n",
      "----Probabilities using L Matrix---\n",
      "Total Probabilities: 1.0\n",
      "Subset (): 0.426430\n",
      "Subset (1): 0.380109\n",
      "Subset (2): 0.106270\n",
      "Subset (3): 0.012021\n",
      "Subset (1, 2): 0.060525\n",
      "Subset (1, 3): 0.010079\n",
      "Subset (2, 3): 0.002966\n",
      "Subset (1, 2, 3): 0.001599\n"
     ]
    }
   ],
   "source": [
    "det_submatrices = {p: (det(K[np.ix_([i-1 for i in p], [j-1 for j in p])]) if p else 1.0) for p in ps}\n",
    "print(det_submatrices.keys())\n",
    "print(\"---Det of K---\")\n",
    "for subset, determinant in det_submatrices.items():\n",
    "    subset_str = \", \".join(map(str, subset))  \n",
    "    print(f\"Subset ({subset_str}): {determinant}\")\n",
    "print(\"----Probabilities using L Matrix---\")\n",
    "probs = {p: (det(L[np.ix_([i-1 for i in p], [j-1 for j in p])]) if p else 1.0)/det(I+L) for p in ps}\n",
    "\n",
    "sorted_probabilities = sorted(probs.items(), key=lambda x: (len(x[0]), x[0]))\n",
    "print(\"Total Probabilities: \" + str(sum(probs.values())))\n",
    "for subset, probability in sorted_probabilities:\n",
    "    subset_formatted = f\"({', '.join(map(str, subset))})\" if subset else \"()\"\n",
    "    print(f\"Subset {subset_formatted}: {probability:.6f}\")\n"
   ]
  },
  {
   "cell_type": "code",
   "execution_count": 9,
   "metadata": {},
   "outputs": [
    {
     "name": "stdout",
     "output_type": "stream",
     "text": [
      "Total Probabilities: 1.0\n",
      "Subset (): 0.426760\n",
      "Subset (1): 0.379822\n",
      "Subset (2): 0.106348\n",
      "Subset (3): 0.011677\n",
      "Subset (1, 2): 0.060454\n",
      "Subset (1, 3): 0.010388\n",
      "Subset (2, 3): 0.002912\n",
      "Subset (1, 2, 3): 0.001638\n"
     ]
    }
   ],
   "source": [
    "def DPP_sampling(iterations):\n",
    "    final_results = defaultdict(int)\n",
    "\n",
    "    for _ in range(iterations):\n",
    "        sample, _ = poulson_dpp_sampling(K) \n",
    "        final_results[tuple(sample)] += 1\n",
    "\n",
    "    probabilities = {subset: count / iterations for subset, count in final_results.items()}\n",
    "    sorted_probabilities = dict(sorted(probabilities.items(), key=lambda item: (len(item[0]), item)))\n",
    "    print(\"Total Probabilities: \" + str(sum(probabilities.values())))\n",
    "    for subset, probability in sorted_probabilities.items():\n",
    "        subset_formatted = f\"({', '.join(map(str, subset))})\" if subset else \"()\"\n",
    "        print(f\"Subset {subset_formatted}: {probability:.6f}\")\n",
    "\n",
    "    return [probability for subset, probability in sorted_probabilities.items()]\n",
    "\n",
    "iterations = 10000000\n",
    "probabilities = DPP_sampling(iterations)"
   ]
  }
 ],
 "metadata": {
  "kernelspec": {
   "display_name": "Python 3",
   "language": "python",
   "name": "python3"
  },
  "language_info": {
   "codemirror_mode": {
    "name": "ipython",
    "version": 3
   },
   "file_extension": ".py",
   "mimetype": "text/x-python",
   "name": "python",
   "nbconvert_exporter": "python",
   "pygments_lexer": "ipython3",
   "version": "3.9.6"
  }
 },
 "nbformat": 4,
 "nbformat_minor": 2
}
