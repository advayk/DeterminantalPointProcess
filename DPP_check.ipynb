{
 "cells": [
  {
   "cell_type": "code",
   "execution_count": 2,
   "metadata": {},
   "outputs": [],
   "source": [
    "import numpy as np\n",
    "import matplotlib.pyplot as plt\n",
    "from collections import defaultdict\n",
    "from itertools import chain, combinations\n",
    "from scipy.linalg import det"
   ]
  },
  {
   "cell_type": "code",
   "execution_count": 3,
   "metadata": {},
   "outputs": [],
   "source": [
    "def bernoulli_trial(p):\n",
    "    return np.random.rand() < p\n",
    "\n",
    "def poulson_dpp_sampling(K):\n",
    "    n = K.shape[0]\n",
    "    sample = []\n",
    "    A = np.array(K, dtype=float)\n",
    "\n",
    "    for j in range(n):\n",
    "        if bernoulli_trial(A[j, j]):\n",
    "            sample.append(j+1)\n",
    "        else:\n",
    "            A[j, j] -= 1 \n",
    "        A[j+1:n, j] /= A[j, j]  \n",
    "        A[j+1:n, j+1:n] -= np.outer(A[j+1:n, j], A[j, j+1:n])\n",
    "    return sample, A\n"
   ]
  },
  {
   "cell_type": "code",
   "execution_count": 4,
   "metadata": {},
   "outputs": [
    {
     "name": "stdout",
     "output_type": "stream",
     "text": [
      "---K Matrix---\n",
      "[[0.06409694 0.05959793 0.03500052]\n",
      " [0.05959793 0.22719832 0.21842042]\n",
      " [0.03500052 0.21842042 0.30894024]]\n",
      "---L Matrix---\n",
      "[[0.07870695 0.10830563 0.08886564]\n",
      " [0.10830563 0.43180019 0.45802863]\n",
      " [0.08886564 0.45802863 0.59632092]]\n"
     ]
    }
   ],
   "source": [
    "# Generate a random 3x3 matrix A\n",
    "np.random.seed(42)\n",
    "A = np.random.randn(3, 3)\n",
    "K = A @ A.T  \n",
    "eigenvalues, _ = np.linalg.eig(K)\n",
    "largest_eigenvalue = max(eigenvalues)\n",
    "K = K/ (2 * largest_eigenvalue)\n",
    "I = np.eye(3)\n",
    "L = K @ np.linalg.inv(I - K)\n",
    "print(\"---K Matrix---\")\n",
    "print(K)\n",
    "print(\"---L Matrix---\")\n",
    "print(L)\n"
   ]
  },
  {
   "cell_type": "code",
   "execution_count": 5,
   "metadata": {},
   "outputs": [],
   "source": [
    "def powerset(iterable):\n",
    "    \"powerset([1,2,3]) --> [], [1], [2], [3], [1,2], [1,3], [2,3], [1,2,3]\"\n",
    "    s = list(iterable)\n",
    "    return chain.from_iterable(combinations(s, r) for r in range(len(s)+1))"
   ]
  },
  {
   "cell_type": "code",
   "execution_count": 6,
   "metadata": {},
   "outputs": [
    {
     "data": {
      "text/plain": [
       "[(), (1,), (2,), (3,), (1, 2), (1, 3), (2, 3), (1, 2, 3)]"
      ]
     },
     "execution_count": 6,
     "metadata": {},
     "output_type": "execute_result"
    }
   ],
   "source": [
    "# Calculate the powerset of indices, including the empty set\n",
    "indices = [1, 2, 3]\n",
    "ps = list(powerset(indices))\n",
    "ps"
   ]
  },
  {
   "cell_type": "code",
   "execution_count": 7,
   "metadata": {},
   "outputs": [
    {
     "name": "stdout",
     "output_type": "stream",
     "text": [
      "dict_keys([(), (1,), (2,), (3,), (1, 2), (1, 3), (2, 3), (1, 2, 3)])\n",
      "---Det of K---\n",
      "Subset (): 1.0\n",
      "Subset (1): 0.06409694200724679\n",
      "Subset (2): 0.2271983159436042\n",
      "Subset (3): 0.30894024298493544\n",
      "Subset (1, 2): 0.011010804037692794\n",
      "Subset (1, 3): 0.018577088347950948\n",
      "Subset (2, 3): 0.022483223285009585\n",
      "Subset (1, 2, 3): 0.0009766826013799937\n",
      "----Probabilities using L Matrix---\n",
      "Total Probabilities: 1.0\n",
      "Subset (): 0.450859\n",
      "Subset (1): 0.035486\n",
      "Subset (2): 0.194681\n",
      "Subset (3): 0.268857\n",
      "Subset (1, 2): 0.010034\n",
      "Subset (1, 3): 0.017600\n",
      "Subset (2, 3): 0.021507\n",
      "Subset (1, 2, 3): 0.000977\n"
     ]
    }
   ],
   "source": [
    "det_submatrices = {p: (det(K[np.ix_([i-1 for i in p], [j-1 for j in p])]) if p else 1.0) for p in ps}\n",
    "print(det_submatrices.keys())\n",
    "print(\"---Det of K---\")\n",
    "for subset, determinant in det_submatrices.items():\n",
    "    subset_str = \", \".join(map(str, subset))  \n",
    "    print(f\"Subset ({subset_str}): {determinant}\")\n",
    "print(\"----Probabilities using L Matrix---\")\n",
    "probs = {p: (det(L[np.ix_([i-1 for i in p], [j-1 for j in p])]) if p else 1.0)/det(I+L) for p in ps}\n",
    "\n",
    "sorted_probabilities = sorted(probs.items(), key=lambda x: (len(x[0]), x[0]))\n",
    "print(\"Total Probabilities: \" + str(sum(probs.values())))\n",
    "for subset, probability in sorted_probabilities:\n",
    "    subset_formatted = f\"({', '.join(map(str, subset))})\" if subset else \"()\"\n",
    "    print(f\"Subset {subset_formatted}: {probability:.6f}\")\n"
   ]
  },
  {
   "cell_type": "code",
   "execution_count": 8,
   "metadata": {},
   "outputs": [
    {
     "name": "stdout",
     "output_type": "stream",
     "text": [
      "Total Probabilities: 0.9999999999999999\n",
      "Subset (): 0.450906\n",
      "Subset (1): 0.035495\n",
      "Subset (2): 0.194575\n",
      "Subset (3): 0.268916\n",
      "Subset (1, 2): 0.010004\n",
      "Subset (1, 3): 0.017610\n",
      "Subset (2, 3): 0.021530\n",
      "Subset (1, 2, 3): 0.000963\n"
     ]
    }
   ],
   "source": [
    "def DPP_sampling(iterations):\n",
    "    final_results = defaultdict(int)\n",
    "\n",
    "    for _ in range(iterations):\n",
    "        sample, _ = poulson_dpp_sampling(K) \n",
    "        final_results[tuple(sample)] += 1\n",
    "\n",
    "    probabilities = {subset: count / iterations for subset, count in final_results.items()}\n",
    "    sorted_probabilities = dict(sorted(probabilities.items(), key=lambda item: (len(item[0]), item)))\n",
    "    print(\"Total Probabilities: \" + str(sum(probabilities.values())))\n",
    "    for subset, probability in sorted_probabilities.items():\n",
    "        subset_formatted = f\"({', '.join(map(str, subset))})\" if subset else \"()\"\n",
    "        print(f\"Subset {subset_formatted}: {probability:.6f}\")\n",
    "\n",
    "    return [probability for subset, probability in sorted_probabilities.items()]\n",
    "2\n",
    "iterations = 10000000\n",
    "probabilities = DPP_sampling(iterations)"
   ]
  }
 ],
 "metadata": {
  "kernelspec": {
   "display_name": "Python 3",
   "language": "python",
   "name": "python3"
  },
  "language_info": {
   "codemirror_mode": {
    "name": "ipython",
    "version": 3
   },
   "file_extension": ".py",
   "mimetype": "text/x-python",
   "name": "python",
   "nbconvert_exporter": "python",
   "pygments_lexer": "ipython3",
   "version": "3.9.6"
  }
 },
 "nbformat": 4,
 "nbformat_minor": 2
}
