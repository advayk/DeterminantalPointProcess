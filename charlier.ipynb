{
 "cells": [
  {
   "cell_type": "code",
   "execution_count": null,
   "metadata": {},
   "outputs": [
    {
     "name": "stdout",
     "output_type": "stream",
     "text": [
      "7.50000000000000\n"
     ]
    }
   ],
   "source": [
    "from sympy import symbols, factorial, Sum, binomial, gamma\n",
    "\n",
    "x, k, n, beta, gamma_val = symbols('x k n beta gamma_val')\n",
    "\n",
    "Meixner_polynomial = Sum(\n",
    "    ((-1)**k) * binomial(n, k) * binomial(x, k) * factorial(k) *\n",
    "    gamma(x + beta + n - k) / gamma(x + beta) * gamma_val**(-k),\n",
    "    (k, 0, n)\n",
    ")\n",
    "\n",
    "def evaluate_Meixner_polynomial(x_val, n_val, beta_val, gamma_val_numeric):\n",
    "    return Meixner_polynomial.subs({x: x_val, n: n_val, beta: beta_val, gamma_val: gamma_val_numeric}).doit()\n",
    "\n",
    "# Example of how to use the function:\n",
    "result = evaluate_Meixner_polynomial(1, 3, 0.5, 2)\n",
    "print(result)"
   ]
  },
  {
   "cell_type": "code",
   "execution_count": 9,
   "metadata": {},
   "outputs": [
    {
     "ename": "NameError",
     "evalue": "name 'q' is not defined",
     "output_type": "error",
     "traceback": [
      "\u001b[0;31m---------------------------------------------------------------------------\u001b[0m",
      "\u001b[0;31mNameError\u001b[0m                                 Traceback (most recent call last)",
      "Cell \u001b[0;32mIn[9], line 28\u001b[0m\n\u001b[1;32m     26\u001b[0m \u001b[38;5;66;03m# Compute the kernel\u001b[39;00m\n\u001b[1;32m     27\u001b[0m kernel_value \u001b[38;5;241m=\u001b[39m Meixner_kernel(x_val, y_val, M_val, q_val, K_val)\n\u001b[0;32m---> 28\u001b[0m \u001b[38;5;28mprint\u001b[39m(\u001b[38;5;124mf\u001b[39m\u001b[38;5;124m\"\u001b[39m\u001b[38;5;124mThe Meixner kernel K_Me,M^\u001b[39m\u001b[38;5;132;01m{\u001b[39;00mq,K\u001b[38;5;132;01m}\u001b[39;00m\u001b[38;5;124m(\u001b[39m\u001b[38;5;132;01m{\u001b[39;00mx_val\u001b[38;5;132;01m}\u001b[39;00m\u001b[38;5;124m, \u001b[39m\u001b[38;5;132;01m{\u001b[39;00my_val\u001b[38;5;132;01m}\u001b[39;00m\u001b[38;5;124m) is \u001b[39m\u001b[38;5;132;01m{\u001b[39;00mkernel_value\u001b[38;5;132;01m}\u001b[39;00m\u001b[38;5;124m\"\u001b[39m)\n",
      "\u001b[0;31mNameError\u001b[0m: name 'q' is not defined"
     ]
    }
   ],
   "source": [
    "def Meixner_kernel(x, y, M, q, K):\n",
    "    # Utilize the previously defined Meixner polynomial evaluation function\n",
    "    m_M_x = evaluate_Meixner_polynomial(x, M, K, q)\n",
    "    m_M_y = evaluate_Meixner_polynomial(y, M, K, q)\n",
    "    m_M_minus1_x = evaluate_Meixner_polynomial(x, M-1, K, q)\n",
    "    m_M_minus1_y = evaluate_Meixner_polynomial(y, M-1, K, q)\n",
    "\n",
    "    # Calculate the weight function w(x)\n",
    "    def weight(x, K, q):\n",
    "        return ((x + K - 1)**x) * q**x\n",
    "\n",
    "    # Calculate the Meixner kernel\n",
    "    numerator = -q * m_M_x * m_M_minus1_y - m_M_minus1_x * m_M_y\n",
    "    denominator = x - y\n",
    "    kernel = numerator / denominator * ((weight(x, K, q) * weight(y, K, q))**0.5)\n",
    "    \n",
    "    return kernel\n",
    "\n",
    "# Example usage of the Meixner_kernel function\n",
    "x_val = 1\n",
    "y_val = 2\n",
    "M_val = 3\n",
    "q_val = 0.5\n",
    "K_val = 1\n",
    "\n",
    "# Compute the kernel\n",
    "kernel_value = Meixner_kernel(x_val, y_val, M_val, q_val, K_val)\n",
    "print(f\"The Meixner kernel K_Me,M^{q,K}({x_val}, {y_val}) is {kernel_value}\")"
   ]
  },
  {
   "cell_type": "code",
   "execution_count": null,
   "metadata": {},
   "outputs": [],
   "source": []
  }
 ],
 "metadata": {
  "kernelspec": {
   "display_name": "Python 3",
   "language": "python",
   "name": "python3"
  },
  "language_info": {
   "codemirror_mode": {
    "name": "ipython",
    "version": 3
   },
   "file_extension": ".py",
   "mimetype": "text/x-python",
   "name": "python",
   "nbconvert_exporter": "python",
   "pygments_lexer": "ipython3",
   "version": "3.0.0"
  }
 },
 "nbformat": 4,
 "nbformat_minor": 2
}
